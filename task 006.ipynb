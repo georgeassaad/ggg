{
 "cells": [
  {
   "cell_type": "code",
   "execution_count": null,
   "metadata": {},
   "outputs": [],
   "source": [
    "\n",
    "def calculator(a, b, operation):\n",
    "    if operation == \"add\":\n",
    "        return a + b \n",
    "    elif operation == \"subtract\":\n",
    "        return a - b  \n",
    "    elif operation == \"multiply\":\n",
    "        return a * b \n",
    "    elif operation == \"divide\":\n",
    "        if b != 0:  \n",
    "            return a / b  \n",
    "        else:\n",
    "            return \"Error! Division by zero.\"\n",
    "    else:\n",
    "        return \"Invalid operation!\"  \n",
    "\n",
    "# Test the function\n",
    "print(calculator(5, 3, \"add\"))      \n",
    "print(calculator(10, 4, \"subtract\")) \n",
    "print(calculator(6, 2, \"multiply\")) \n",
    "print(calculator(8, 2, \"divide\"))    \n",
    "print(calculator(8, 0, \"divide\"))   \n"
   ]
  }
 ],
 "metadata": {
  "kernelspec": {
   "display_name": "Python 3",
   "language": "python",
   "name": "python3"
  },
  "language_info": {
   "codemirror_mode": {
    "name": "ipython",
    "version": 3
   },
   "file_extension": ".py",
   "mimetype": "text/x-python",
   "name": "python",
   "nbconvert_exporter": "python",
   "pygments_lexer": "ipython3",
   "version": "3.12.1"
  }
 },
 "nbformat": 4,
 "nbformat_minor": 2
}
